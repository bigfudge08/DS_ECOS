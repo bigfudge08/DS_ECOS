{
 "cells": [
  {
   "cell_type": "markdown",
   "id": "3116b69d-d15c-46c0-b702-8c8ce3b74058",
   "metadata": {},
   "source": [
    "# Data Science Tools and Ecosystem\n"
   ]
  },
  {
   "cell_type": "markdown",
   "id": "36bb8746-049c-41ed-bb15-d9c5841d710e",
   "metadata": {
    "tags": []
   },
   "source": [
    " In this notebook, Data Science Tools and Ecosystem are summarized.\n",
    "\n"
   ]
  },
  {
   "cell_type": "markdown",
   "id": "c4996821-213b-4ac9-818b-2b589dfd3c3a",
   "metadata": {},
   "source": [
    "**Objectives:**\n",
    "- List popular Data Science languages \n",
    "- List of popular Libraries used in Data Science \n",
    "- Important tools used in Data Science "
   ]
  },
  {
   "cell_type": "markdown",
   "id": "3c5f25e2-0cb2-47f2-a47d-04272ac9880d",
   "metadata": {
    "tags": []
   },
   "source": [
    "Some of the ***popular languages*** that are commonly used by Data Scientists are:\n",
    "\n",
    "1.Python\n",
    "\n",
    "2.R\n",
    "\n",
    "3.SQL\n",
    "\n",
    "4.Java"
   ]
  },
  {
   "cell_type": "markdown",
   "id": "ef75a443-abaa-4e13-9e82-277c1d5a5fe1",
   "metadata": {},
   "source": [
    "And similarly, some of the commonly used ***libraries*** used frequently by Data Scientists are: \n",
    "\n",
    "1.Matplotlib\n",
    "\n",
    "2.pandas\n",
    "\n",
    "3.Numpy\n",
    "\n",
    "4.TensorFlow"
   ]
  },
  {
   "cell_type": "markdown",
   "id": "8eacae4a-21d5-4790-864e-ed9f1f522204",
   "metadata": {},
   "source": [
    "The most important ***Data Science Tools*** to take note of are:\n",
    "|Data Science Tools|\n",
    "---------------------\n",
    "|  Apache Spark.   |\n",
    "|    TensorFlow    |\n",
    "|  Apache Hadoop   |"
   ]
  },
  {
   "cell_type": "markdown",
   "id": "c6d3fec3-6da4-451b-9a12-f928fd0df707",
   "metadata": {},
   "source": [
    "###  Below are a few examples of evaluating arithmetic expressions in Python"
   ]
  },
  {
   "cell_type": "code",
   "execution_count": 4,
   "id": "b795c8cf-caa8-408c-8e05-cb3b6d58db4f",
   "metadata": {
    "tags": []
   },
   "outputs": [
    {
     "data": {
      "text/plain": [
       "17"
      ]
     },
     "execution_count": 4,
     "metadata": {},
     "output_type": "execute_result"
    }
   ],
   "source": [
    "# 'tis merely an arithmatic expression to first mutiply then to add integers.\n",
    "\n",
    "(3*4)+5"
   ]
  },
  {
   "cell_type": "code",
   "execution_count": 5,
   "id": "8647b819-abeb-4177-8f77-f9e2aa39c966",
   "metadata": {
    "tags": []
   },
   "outputs": [
    {
     "data": {
      "text/plain": [
       "3.3333333333333335"
      ]
     },
     "execution_count": 5,
     "metadata": {},
     "output_type": "execute_result"
    }
   ],
   "source": [
    "# This will convert 200 minutes to hours by diving by 60.\n",
    "(200/60)"
   ]
  },
  {
   "cell_type": "markdown",
   "id": "9110c3ba-a811-4ecb-af94-c2de0c909a65",
   "metadata": {},
   "source": [
    "## Author:\n",
    "Abdullah Mohammed :)\n"
   ]
  },
  {
   "cell_type": "code",
   "execution_count": null,
   "id": "2e5a41ba-6f93-4ac5-af34-203363040b2e",
   "metadata": {},
   "outputs": [],
   "source": []
  }
 ],
 "metadata": {
  "kernelspec": {
   "display_name": "Python",
   "language": "python",
   "name": "conda-env-python-py"
  },
  "language_info": {
   "codemirror_mode": {
    "name": "ipython",
    "version": 3
   },
   "file_extension": ".py",
   "mimetype": "text/x-python",
   "name": "python",
   "nbconvert_exporter": "python",
   "pygments_lexer": "ipython3",
   "version": "3.7.12"
  }
 },
 "nbformat": 4,
 "nbformat_minor": 5
}
